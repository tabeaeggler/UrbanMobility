{
 "cells": [
  {
   "cell_type": "markdown",
   "id": "9dcdf0d3",
   "metadata": {
    "id": "9dcdf0d3"
   },
   "source": [
    "# EDA: bike station across london boroughs"
   ]
  },
  {
   "cell_type": "code",
   "execution_count": 59,
   "id": "de9dc53e",
   "metadata": {
    "id": "de9dc53e"
   },
   "outputs": [],
   "source": [
    "import pandas as pd\n",
    "import seaborn as sns\n",
    "import matplotlib.pyplot as plt\n",
    "import folium\n",
    "import random\n",
    "import geopandas as gpd\n",
    "from folium.plugins import HeatMap\n",
    "from IPython.display import IFrame"
   ]
  },
  {
   "cell_type": "code",
   "execution_count": 60,
   "id": "6229bed6",
   "metadata": {},
   "outputs": [],
   "source": [
    "# import\n",
    "bike_locs = pd.read_csv('/Users/tabea/Documents/UrbanMobility/data/bike_locations.csv')"
   ]
  },
  {
   "cell_type": "markdown",
   "id": "d01b6b51",
   "metadata": {},
   "source": [
    "### 1. Visualize all bike station locations with ID's"
   ]
  },
  {
   "cell_type": "code",
   "execution_count": 61,
   "id": "c42e20ce",
   "metadata": {},
   "outputs": [
    {
     "data": {
      "text/html": [
       "\n",
       "        <iframe\n",
       "            width=\"900\"\n",
       "            height=\"500\"\n",
       "            src=\"map_bike_locs.html\"\n",
       "            frameborder=\"0\"\n",
       "            allowfullscreen\n",
       "            \n",
       "        ></iframe>\n",
       "        "
      ],
      "text/plain": [
       "<IPython.lib.display.IFrame at 0x7ffc8300a250>"
      ]
     },
     "execution_count": 61,
     "metadata": {},
     "output_type": "execute_result"
    }
   ],
   "source": [
    "import folium\n",
    "\n",
    "# create a map centered on London\n",
    "london_coords = (51.5074, -0.1278)\n",
    "base_map1 = folium.Map(location=london_coords, zoom_start=12, tiles='Stamen Toner')\n",
    "\n",
    "# add markers for each bike station location\n",
    "for index, row in bike_locs.iterrows():\n",
    "    popup_text = f\"{row['name']} (id: {row['id']}) (terminal id: {row['terminalId']})\"\n",
    "    marker = folium.Marker(location=(row['lat'], row['lon']), popup=popup_text)\n",
    "    marker.add_to(base_map1)\n",
    "\n",
    "# add a heatmap layer\n",
    "heat_data = [[row['lat'], row['lon']] for index, row in bike_locs.iterrows()]\n",
    "heatmap = folium.FeatureGroup(heat_data)\n",
    "heatmap.add_to(base_map1)\n",
    "\n",
    "# save the map as an HTML file\n",
    "base_map1.save('./data/map_bike_locs.html')\n",
    "\n",
    "# plot\n",
    "IFrame('map_bike_locs.html', width=900, height=500)"
   ]
  },
  {
   "cell_type": "markdown",
   "id": "76935b31",
   "metadata": {},
   "source": [
    "### 2. Distribution of bike stations across london boroughs"
   ]
  },
  {
   "cell_type": "code",
   "execution_count": 62,
   "id": "4ce39a2d",
   "metadata": {},
   "outputs": [
    {
     "data": {
      "image/png": "[encoded data removed]",
      "text/plain": [
       "<Figure size 432x288 with 1 Axes>"
      ]
     },
     "metadata": {
      "needs_background": "light"
     },
     "output_type": "display_data"
    }
   ],
   "source": [
    "# create a bar chart with the number of stations per borough\n",
    "borough_counts = bike_locs.groupby('borough').size()\n",
    "borough_counts = borough_counts.sort_values(ascending=False)\n",
    "\n",
    "# set up the bar chart\n",
    "fig, ax = plt.subplots()\n",
    "ax.bar(borough_counts.index, borough_counts.values)\n",
    "ax.set_title('Number of Bike Stations per Borough')\n",
    "ax.set_xlabel('Borough')\n",
    "ax.set_ylabel('Number of Stations')\n",
    "plt.xticks(rotation=45, ha='right')\n",
    "\n",
    "plt.show()"
   ]
  },
  {
   "cell_type": "markdown",
   "id": "cf2323dc",
   "metadata": {},
   "source": [
    "### 3. Visualize london boroughs on map -> use color to distinguish the ones that have bike stations"
   ]
  },
  {
   "cell_type": "code",
   "execution_count": 63,
   "id": "e404b9db",
   "metadata": {},
   "outputs": [
    {
     "data": {
      "text/html": [
       "\n",
       "        <iframe\n",
       "            width=\"900\"\n",
       "            height=\"500\"\n",
       "            src=\"map_london_boroughs.html\"\n",
       "            frameborder=\"0\"\n",
       "            allowfullscreen\n",
       "            \n",
       "        ></iframe>\n",
       "        "
      ],
      "text/plain": [
       "<IPython.lib.display.IFrame at 0x7ffc81c1c9d0>"
      ]
     },
     "execution_count": 63,
     "metadata": {},
     "output_type": "execute_result"
    }
   ],
   "source": [
    "# read the GeoJSON data for London borough boundaries\n",
    "boroughs_geojson = gpd.read_file('https://skgrange.github.io/www/data/london_boroughs.json')\n",
    "\n",
    "# define a dictionary that maps borough names to random colors\n",
    "boroughs = sorted(bike_locs['borough'].unique())\n",
    "colors = {}\n",
    "for borough in boroughs:\n",
    "    r = random.randint(0, 255)\n",
    "    g = random.randint(0, 255)\n",
    "    b = random.randint(0, 255)\n",
    "    colors[borough] = f\"#{r:02x}{g:02x}{b:02x}\"\n",
    "    \n",
    "default_color = '#999999'\n",
    "\n",
    "def style_function(feature):\n",
    "    borough_name = feature['properties']['name']\n",
    "    if borough_name in colors:\n",
    "        fill_color = colors[borough_name]\n",
    "    else:\n",
    "        fill_color = default_color\n",
    "    return {\n",
    "        'fillColor': fill_color,\n",
    "        'color': 'black',\n",
    "        'weight': 2,\n",
    "        'fillOpacity': 0.5\n",
    "    }\n",
    "  \n",
    "# create a map centered on London\n",
    "london_coords = (51.5074, -0.1278)\n",
    "base_map = folium.Map(location=london_coords, zoom_start=10, tiles='Stamen Toner')\n",
    "\n",
    "# add the borough boundaries to the map\n",
    "folium.GeoJson(boroughs_geojson, name='geojson', style_function=style_function).add_to(base_map)\n",
    "\n",
    "# save the map as an HTML file\n",
    "base_map.save('map_london_boroughs.html')\n",
    "\n",
    "# plot\n",
    "IFrame('map_london_boroughs.html', width=900, height=500)"
   ]
  },
  {
   "cell_type": "markdown",
   "id": "99901736",
   "metadata": {},
   "source": [
    "### 4. Visualize the bike locations by borough"
   ]
  },
  {
   "cell_type": "code",
   "execution_count": 64,
   "id": "eaca8d18",
   "metadata": {},
   "outputs": [
    {
     "data": {
      "text/html": [
       "\n",
       "        <iframe\n",
       "            width=\"900\"\n",
       "            height=\"500\"\n",
       "            src=\"map_bike_loc_borough_marker.html\"\n",
       "            frameborder=\"0\"\n",
       "            allowfullscreen\n",
       "            \n",
       "        ></iframe>\n",
       "        "
      ],
      "text/plain": [
       "<IPython.lib.display.IFrame at 0x7ffc8357cd90>"
      ]
     },
     "execution_count": 64,
     "metadata": {},
     "output_type": "execute_result"
    }
   ],
   "source": [
    "import random\n",
    "import branca.colormap as cm\n",
    "\n",
    "# create a map centered on London\n",
    "london_coords = (51.5074, -0.1278)\n",
    "base_map3 = folium.Map(location=london_coords, zoom_start=11.5, tiles='Stamen Toner')\n",
    "\n",
    "\n",
    "# define a dictionary that maps borough names to random colors\n",
    "boroughs = sorted(bike_locs['borough'].unique())\n",
    "colors = {}\n",
    "for borough in boroughs:\n",
    "    r = random.randint(0, 255)\n",
    "    g = random.randint(0, 255)\n",
    "    b = random.randint(0, 255)\n",
    "    colors[borough] = f\"#{r:02x}{g:02x}{b:02x}\"\n",
    "\n",
    "# add markers for each bike location, colored based on the borough\n",
    "for index, row in bike_locs.iterrows():\n",
    "    popup_text = f\"{row['name']} (borough: {row['borough']}))\"\n",
    "    marker = folium.CircleMarker(location=(row['lat'], row['lon']), radius=5, popup=popup_text, fill=True, color=colors[row['borough']], fill_opacity=0.7)\n",
    "    marker.add_to(base_map3)\n",
    "    \n",
    "# save the map as an HTML file\n",
    "base_map3.save('map_bike_loc_borough_marker.html')\n",
    "\n",
    "# plot\n",
    "IFrame('map_bike_loc_borough_marker.html', width=900, height=500)"
   ]
  },
  {
   "cell_type": "markdown",
   "id": "c5f0be5f",
   "metadata": {},
   "source": [
    "### 5. visualize the bike location counts by borough"
   ]
  },
  {
   "cell_type": "code",
   "execution_count": 65,
   "id": "f7459707",
   "metadata": {},
   "outputs": [
    {
     "data": {
      "text/html": [
       "\n",
       "        <iframe\n",
       "            width=\"900\"\n",
       "            height=\"500\"\n",
       "            src=\"map_bike_loc_borough_heatmap.html\"\n",
       "            frameborder=\"0\"\n",
       "            allowfullscreen\n",
       "            \n",
       "        ></iframe>\n",
       "        "
      ],
      "text/plain": [
       "<IPython.lib.display.IFrame at 0x7ffca2b7b760>"
      ]
     },
     "execution_count": 65,
     "metadata": {},
     "output_type": "execute_result"
    }
   ],
   "source": [
    "import folium\n",
    "from folium.plugins import HeatMap\n",
    "\n",
    "# group the data by borough and count the number of bike locations in each borough\n",
    "borough_counts = bike_locs.groupby('borough').size()\n",
    "\n",
    "# create a map centered on London\n",
    "london_coords = (51.5074, -0.1278)\n",
    "base_map2 = folium.Map(location=london_coords, zoom_start=12, tiles='Stamen Toner')\n",
    "\n",
    "# create a heatmap layer with the bike location counts for each borough\n",
    "heatmap_layer = HeatMap(\n",
    "    list(zip(bike_locs['lat'], bike_locs['lon'], borough_counts)),\n",
    "    name='Bike Locations',\n",
    "    min_opacity=0.4,\n",
    "    radius=40,\n",
    "    blur=10,\n",
    "    max_zoom=1,\n",
    ")\n",
    "\n",
    "# add a heatmap layer\n",
    "heatmap_layer.add_to(base_map2)\n",
    "\n",
    "# save the map as an HTML file\n",
    "base_map2.save('map_bike_loc_borough_heatmap.html')\n",
    "\n",
    "# plot\n",
    "IFrame('map_bike_loc_borough_heatmap.html', width=900, height=500)"
   ]
  }
 ],
 "metadata": {
  "accelerator": "GPU",
  "colab": {
   "history_visible": true,
   "machine_shape": "hm",
   "provenance": []
  },
  "gpuClass": "premium",
  "kernelspec": {
   "display_name": "Python 3 (ipykernel)",
   "language": "python",
   "name": "python3"
  },
  "language_info": {
   "codemirror_mode": {
    "name": "ipython",
    "version": 3
   },
   "file_extension": ".py",
   "mimetype": "text/x-python",
   "name": "python",
   "nbconvert_exporter": "python",
   "pygments_lexer": "ipython3",
   "version": "3.9.7"
  }
 },
 "nbformat": 4,
 "nbformat_minor": 5
}
