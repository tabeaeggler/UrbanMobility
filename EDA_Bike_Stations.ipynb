{
 "cells": [
  {
   "cell_type": "markdown",
   "id": "9dcdf0d3",
   "metadata": {
    "id": "9dcdf0d3"
   },
   "source": [
    "# EDA: bike station across london boroughs"
   ]
  },
  {
   "cell_type": "code",
   "execution_count": 88,
   "id": "de9dc53e",
   "metadata": {
    "id": "de9dc53e"
   },
   "outputs": [],
   "source": [
    "import pandas as pd\n",
    "import seaborn as sns\n",
    "import matplotlib.pyplot as plt\n",
    "import folium\n",
    "import random\n",
    "import geopandas as gpd\n",
    "from folium.plugins import HeatMap\n",
    "from IPython.display import IFrame\n",
    "import itertools"
   ]
  },
  {
   "cell_type": "code",
   "execution_count": 89,
   "id": "6229bed6",
   "metadata": {},
   "outputs": [],
   "source": [
    "# import\n",
    "bike_locs = pd.read_csv('/Users/tabea/Documents/UrbanMobility/data/bike_locations.csv')"
   ]
  },
  {
   "cell_type": "code",
   "execution_count": 148,
   "id": "530cc284",
   "metadata": {},
   "outputs": [],
   "source": [
    "# define density colors\n",
    "colormap_density = [\"#f7fbff\",\"#f6faff\",\"#f5fafe\",\"#f5f9fe\",\"#f4f9fe\",\"#f3f8fe\",\"#f2f8fd\",\"#f2f7fd\",\"#f1f7fd\",\"#f0f6fd\",\"#eff6fc\",\"#eef5fc\",\"#eef5fc\",\"#edf4fc\",\"#ecf4fb\",\"#ebf3fb\",\"#eaf3fb\",\"#eaf2fb\",\"#e9f2fa\",\"#e8f1fa\",\"#e7f1fa\",\"#e7f0fa\",\"#e6f0f9\",\"#e5eff9\",\"#e4eff9\",\"#e3eef9\",\"#e3eef8\",\"#e2edf8\",\"#e1edf8\",\"#e0ecf8\",\"#e0ecf7\",\"#dfebf7\",\"#deebf7\",\"#ddeaf7\",\"#ddeaf6\",\"#dce9f6\",\"#dbe9f6\",\"#dae8f6\",\"#d9e8f5\",\"#d9e7f5\",\"#d8e7f5\",\"#d7e6f5\",\"#d6e6f4\",\"#d6e5f4\",\"#d5e5f4\",\"#d4e4f4\",\"#d3e4f3\",\"#d2e3f3\",\"#d2e3f3\",\"#d1e2f3\",\"#d0e2f2\",\"#cfe1f2\",\"#cee1f2\",\"#cde0f1\",\"#cce0f1\",\"#ccdff1\",\"#cbdff1\",\"#cadef0\",\"#c9def0\",\"#c8ddf0\",\"#c7ddef\",\"#c6dcef\",\"#c5dcef\",\"#c4dbee\",\"#c3dbee\",\"#c2daee\",\"#c1daed\",\"#c0d9ed\",\"#bfd9ec\",\"#bed8ec\",\"#bdd8ec\",\"#bcd7eb\",\"#bbd7eb\",\"#b9d6eb\",\"#b8d5ea\",\"#b7d5ea\",\"#b6d4e9\",\"#b5d4e9\",\"#b4d3e9\",\"#b2d3e8\",\"#b1d2e8\",\"#b0d1e7\",\"#afd1e7\",\"#add0e7\",\"#acd0e6\",\"#abcfe6\",\"#a9cfe5\",\"#a8cee5\",\"#a7cde5\",\"#a5cde4\",\"#a4cce4\",\"#a3cbe3\",\"#a1cbe3\",\"#a0cae3\",\"#9ec9e2\",\"#9dc9e2\",\"#9cc8e1\",\"#9ac7e1\",\"#99c6e1\",\"#97c6e0\",\"#96c5e0\",\"#94c4df\",\"#93c3df\",\"#91c3df\",\"#90c2de\",\"#8ec1de\",\"#8dc0de\",\"#8bc0dd\",\"#8abfdd\",\"#88bedc\",\"#87bddc\",\"#85bcdc\",\"#84bbdb\",\"#82bbdb\",\"#81badb\",\"#7fb9da\",\"#7eb8da\",\"#7cb7d9\",\"#7bb6d9\",\"#79b5d9\",\"#78b5d8\",\"#76b4d8\",\"#75b3d7\",\"#73b2d7\",\"#72b1d7\",\"#70b0d6\",\"#6fafd6\",\"#6daed5\",\"#6caed5\",\"#6badd5\",\"#69acd4\",\"#68abd4\",\"#66aad3\",\"#65a9d3\",\"#63a8d2\",\"#62a7d2\",\"#61a7d1\",\"#5fa6d1\",\"#5ea5d0\",\"#5da4d0\",\"#5ba3d0\",\"#5aa2cf\",\"#59a1cf\",\"#57a0ce\",\"#569fce\",\"#559ecd\",\"#549ecd\",\"#529dcc\",\"#519ccc\",\"#509bcb\",\"#4f9acb\",\"#4d99ca\",\"#4c98ca\",\"#4b97c9\",\"#4a96c9\",\"#4895c8\",\"#4794c8\",\"#4693c7\",\"#4592c7\",\"#4492c6\",\"#4391c6\",\"#4190c5\",\"#408fc4\",\"#3f8ec4\",\"#3e8dc3\",\"#3d8cc3\",\"#3c8bc2\",\"#3b8ac2\",\"#3a89c1\",\"#3988c1\",\"#3787c0\",\"#3686c0\",\"#3585bf\",\"#3484bf\",\"#3383be\",\"#3282bd\",\"#3181bd\",\"#3080bc\",\"#2f7fbc\",\"#2e7ebb\",\"#2d7dbb\",\"#2c7cba\",\"#2b7bb9\",\"#2a7ab9\",\"#2979b8\",\"#2878b8\",\"#2777b7\",\"#2676b6\",\"#2574b6\",\"#2473b5\",\"#2372b4\",\"#2371b4\",\"#2270b3\",\"#216fb3\",\"#206eb2\",\"#1f6db1\",\"#1e6cb0\",\"#1d6bb0\",\"#1c6aaf\",\"#1c69ae\",\"#1b68ae\",\"#1a67ad\",\"#1966ac\",\"#1865ab\",\"#1864aa\",\"#1763aa\",\"#1662a9\",\"#1561a8\",\"#1560a7\",\"#145fa6\",\"#135ea5\",\"#135da4\",\"#125ca4\",\"#115ba3\",\"#115aa2\",\"#1059a1\",\"#1058a0\",\"#0f579f\",\"#0e569e\",\"#0e559d\",\"#0e549c\",\"#0d539a\",\"#0d5299\",\"#0c5198\",\"#0c5097\",\"#0b4f96\",\"#0b4e95\",\"#0b4d93\",\"#0b4c92\",\"#0a4b91\",\"#0a4a90\",\"#0a498e\",\"#0a488d\",\"#09478c\",\"#09468a\",\"#094589\",\"#094487\",\"#094386\",\"#094285\",\"#094183\",\"#084082\",\"#083e80\",\"#083d7f\",\"#083c7d\",\"#083b7c\",\"#083a7a\",\"#083979\",\"#083877\",\"#083776\",\"#083674\",\"#083573\",\"#083471\",\"#083370\",\"#08326e\",\"#08316d\",\"#08306b\"]\n",
    "\n",
    "def map_count_to_color_index(count, max_count):\n",
    "    index = int(count / max_count * (len(colormap_density) - 1))\n",
    "    return index\n",
    "\n",
    "max_count = borough_counts.max()\n",
    "color_dict_density = borough_counts.apply(lambda x: colormap_density[map_count_to_color_index(x, max_count)]).to_dict()\n",
    "\n",
    "\n",
    "# london center coords\n",
    "london_coords = (51.5074, -0.1278)"
   ]
  },
  {
   "cell_type": "markdown",
   "id": "d01b6b51",
   "metadata": {},
   "source": [
    "### 1. Visualize all bike station locations with ID's"
   ]
  },
  {
   "cell_type": "code",
   "execution_count": 98,
   "id": "c42e20ce",
   "metadata": {},
   "outputs": [
    {
     "data": {
      "text/html": [
       "\n",
       "        <iframe\n",
       "            width=\"900\"\n",
       "            height=\"500\"\n",
       "            src=\"map_bike_locs.html\"\n",
       "            frameborder=\"0\"\n",
       "            allowfullscreen\n",
       "            \n",
       "        ></iframe>\n",
       "        "
      ],
      "text/plain": [
       "<IPython.lib.display.IFrame at 0x7f9660d9c970>"
      ]
     },
     "execution_count": 98,
     "metadata": {},
     "output_type": "execute_result"
    }
   ],
   "source": [
    "import folium\n",
    "\n",
    "# create a map centered on London\n",
    "london_coords = (51.5074, -0.1278)\n",
    "base_map1 = folium.Map(location=london_coords, zoom_start=12, tiles='Stamen Toner')\n",
    "\n",
    "# add markers for each bike station location\n",
    "for index, row in bike_locs.iterrows():\n",
    "    popup_text = f\"{row['name']} (id: {row['id']}) (terminal id: {row['terminalId']})\"\n",
    "    marker = folium.CircleMarker(location=(row['lat'], row['lon']), popup=popup_text)\n",
    "    marker.add_to(base_map1)\n",
    "\n",
    "# add a heatmap layer\n",
    "heat_data = [[row['lat'], row['lon']] for index, row in bike_locs.iterrows()]\n",
    "heatmap = folium.FeatureGroup(heat_data)\n",
    "heatmap.add_to(base_map1)\n",
    "\n",
    "# save the map as an HTML file\n",
    "base_map1.save('./data/map_bike_locs.html')\n",
    "\n",
    "# plot\n",
    "IFrame('map_bike_locs.html', width=900, height=500)"
   ]
  },
  {
   "cell_type": "markdown",
   "id": "76935b31",
   "metadata": {},
   "source": [
    "### 2. Distribution of bike stations across london boroughs"
   ]
  },
  {
   "cell_type": "code",
   "execution_count": 156,
   "id": "4ce39a2d",
   "metadata": {},
   "outputs": [
    {
     "data": {
      "image/png": "[encoded data removed]",
      "text/plain": [
       "<Figure size 432x288 with 1 Axes>"
      ]
     },
     "metadata": {
      "needs_background": "light"
     },
     "output_type": "display_data"
    }
   ],
   "source": [
    "# create a bar chart with the number of stations per borough\n",
    "borough_counts = bike_locs.groupby('borough').size()\n",
    "borough_counts = borough_counts.sort_values(ascending=False)\n",
    "\n",
    "# set up the bar chart\n",
    "fig, ax = plt.subplots()\n",
    "bars = ax.bar(borough_counts.index, borough_counts.values, color=[color_dict[borough] for borough in borough_counts.index], alpha=0.75)\n",
    "\n",
    "# set the axis labels and title\n",
    "ax.set_title('Number of Bike Stations per Borough')\n",
    "ax.set_ylabel('Number of Stations')\n",
    "plt.xticks(rotation=45, ha='right')\n",
    "\n",
    "plt.show()\n",
    "\n"
   ]
  },
  {
   "cell_type": "markdown",
   "id": "cf2323dc",
   "metadata": {},
   "source": [
    "### 3. Visualize london boroughs on map -> use color scale by station counts"
   ]
  },
  {
   "cell_type": "code",
   "execution_count": 147,
   "id": "e404b9db",
   "metadata": {},
   "outputs": [
    {
     "data": {
      "text/html": [
       "\n",
       "        <iframe\n",
       "            width=\"900\"\n",
       "            height=\"500\"\n",
       "            src=\"map_london_boroughs.html\"\n",
       "            frameborder=\"0\"\n",
       "            allowfullscreen\n",
       "            \n",
       "        ></iframe>\n",
       "        "
      ],
      "text/plain": [
       "<IPython.lib.display.IFrame at 0x7f9680de6310>"
      ]
     },
     "execution_count": 147,
     "metadata": {},
     "output_type": "execute_result"
    }
   ],
   "source": [
    "# read the GeoJSON data for London borough boundaries\n",
    "boroughs_geojson = gpd.read_file('https://skgrange.github.io/www/data/london_boroughs.json')\n",
    "\n",
    "    \n",
    "default_color = '#999999'\n",
    "\n",
    "def style_function(feature):\n",
    "    borough_name = feature['properties']['name']\n",
    "    if borough_name in colors:\n",
    "        fill_color = color_dict_density[borough_name]\n",
    "    else:\n",
    "        fill_color = default_color\n",
    "    return {\n",
    "        'fillColor': fill_color,\n",
    "        'color': 'black',\n",
    "        'weight': 2,\n",
    "        'fillOpacity': 0.6,\n",
    "\n",
    "    }\n",
    "  \n",
    "# create a map centered on London\n",
    "base_map = folium.Map(location=london_coords, zoom_start=11, tiles='Stamen Toner')\n",
    "\n",
    "# add the borough boundaries to the map\n",
    "folium.GeoJson(boroughs_geojson, name='geojson', style_function=style_function).add_to(base_map)\n",
    "\n",
    "# save the map as an HTML file\n",
    "base_map.save('map_london_boroughs.html')\n",
    "\n",
    "# plot\n",
    "IFrame('map_london_boroughs.html', width=900, height=500)"
   ]
  },
  {
   "cell_type": "markdown",
   "id": "99901736",
   "metadata": {},
   "source": [
    "### 4. Visualize the bike locations by borough"
   ]
  },
  {
   "cell_type": "code",
   "execution_count": 157,
   "id": "eaca8d18",
   "metadata": {},
   "outputs": [
    {
     "data": {
      "text/html": [
       "\n",
       "        <iframe\n",
       "            width=\"900\"\n",
       "            height=\"500\"\n",
       "            src=\"map_bike_loc_borough.html\"\n",
       "            frameborder=\"0\"\n",
       "            allowfullscreen\n",
       "            \n",
       "        ></iframe>\n",
       "        "
      ],
      "text/plain": [
       "<IPython.lib.display.IFrame at 0x7f96a36d95e0>"
      ]
     },
     "execution_count": 157,
     "metadata": {},
     "output_type": "execute_result"
    }
   ],
   "source": [
    "import random\n",
    "import branca.colormap as cm\n",
    "\n",
    "# add markers for each bike location, colored based on the borough\n",
    "for index, row in bike_locs.iterrows():\n",
    "    popup_text = f\"{row['name']} (borough: {row['borough']}))\"\n",
    "    marker = folium.CircleMarker(location=(row['lat'], row['lon']), radius=1, popup=popup_text, color=\"purple\", fill_opacity=0.7)\n",
    "    marker.add_to(base_map)\n",
    "    \n",
    "# save the map as an HTML file\n",
    "base_map.save('map_bike_loc_borough.html')\n",
    "\n",
    "# plot\n",
    "IFrame('map_bike_loc_borough.html', width=900, height=500)"
   ]
  },
  {
   "cell_type": "code",
   "execution_count": null,
   "id": "ed634494",
   "metadata": {},
   "outputs": [],
   "source": []
  }
 ],
 "metadata": {
  "accelerator": "GPU",
  "colab": {
   "history_visible": true,
   "machine_shape": "hm",
   "provenance": []
  },
  "gpuClass": "premium",
  "kernelspec": {
   "display_name": "Python 3 (ipykernel)",
   "language": "python",
   "name": "python3"
  },
  "language_info": {
   "codemirror_mode": {
    "name": "ipython",
    "version": 3
   },
   "file_extension": ".py",
   "mimetype": "text/x-python",
   "name": "python",
   "nbconvert_exporter": "python",
   "pygments_lexer": "ipython3",
   "version": "3.9.7"
  }
 },
 "nbformat": 4,
 "nbformat_minor": 5
}
