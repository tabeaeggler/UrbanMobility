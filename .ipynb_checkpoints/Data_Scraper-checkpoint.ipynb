{
 "cells": [
  {
   "cell_type": "markdown",
   "id": "9dcdf0d3",
   "metadata": {},
   "source": [
    "# Journey data\n",
    "link: https://cycling.data.tfl.gov.uk"
   ]
  },
  {
   "cell_type": "raw",
   "id": "3502d197",
   "metadata": {},
   "source": [
    "# March 2020 to December 2021\n",
    "# covid restrictions uk timeline: https://www.instituteforgovernment.org.uk/sites/default/files/2022-12/timeline-coronavirus-lockdown-december-2021.pdf"
   ]
  },
  {
   "cell_type": "code",
   "execution_count": 70,
   "id": "de9dc53e",
   "metadata": {},
   "outputs": [],
   "source": [
    "import pandas as pd\n",
    "import requests\n",
    "import io\n",
    "import urllib\n",
    "import seaborn as sns\n",
    "import matplotlib.pyplot as plt\n",
    "import matplotlib.ticker as ticker"
   ]
  },
  {
   "cell_type": "markdown",
   "id": "fbfcfc9d",
   "metadata": {},
   "source": [
    "### import journey cycle data per year"
   ]
  },
  {
   "cell_type": "code",
   "execution_count": 58,
   "id": "e3483dc8",
   "metadata": {},
   "outputs": [
    {
     "name": "stderr",
     "output_type": "stream",
     "text": [
      "/Users/tabea/opt/anaconda3/lib/python3.9/site-packages/IPython/core/interactiveshell.py:3444: DtypeWarning: Columns (2,5) have mixed types.Specify dtype option on import or set low_memory=False.\n",
      "  exec(code_obj, self.user_global_ns, self.user_ns)\n"
     ]
    }
   ],
   "source": [
    "# can't scrape the data with selenium and bs4 -> copy pasted names of the files in a seperate csv\n",
    "\n",
    "# read the list of file names\n",
    "filenames = pd.read_csv('/Users/tabea/Documents/UrbanMobility/data/cycling-data-tfl/filenames-data.csv', header=None, squeeze=True).tolist()\n",
    "\n",
    "# combine base-url and filenames\n",
    "base_url = 'http://cycling.data.tfl.gov.uk/usage-stats/'\n",
    "url_list = [base_url + urllib.parse.quote(x) for x in filenames]\n",
    "\n",
    "# dataframe per year\n",
    "dataframes_by_year = {}\n",
    "\n",
    "# loop over the urls and extract the data\n",
    "for url in url_list:\n",
    "\n",
    "    \n",
    "    # check for format and download the data and create a dataframe\n",
    "    if (url[-3:] == \"csv\"):\n",
    "        response = requests.get(url)\n",
    "        temp_df = pd.read_csv(io.StringIO(response.content.decode('utf-8')))\n",
    "\n",
    "        filename = url.split('/')[-1]\n",
    "        year = int(filename[-6:-4]) + 2000\n",
    "    \n",
    "    elif (url[-4:] == \"xlsx\"):\n",
    "        response = requests.get(url).content\n",
    "        temp_df = pd.read_excel(io.BytesIO(response))\n",
    "\n",
    "        filename = url.split('/')[-1]\n",
    "        year = int(filename[-7:-5]) + 2000\n",
    "    \n",
    "    \n",
    "    # if the year is not already a key in the dictionary, add it with an empty dataframe\n",
    "    if year not in dataframes_by_year:\n",
    "        dataframes_by_year[year] = pd.DataFrame()\n",
    "    \n",
    "    # add the new data to the appropriate dataframe in the dictionary\n",
    "    dataframes_by_year[year] = pd.concat([dataframes_by_year[year], temp_df], ignore_index=True)\n",
    "    \n"
   ]
  },
  {
   "cell_type": "code",
   "execution_count": 61,
   "id": "71b301a1",
   "metadata": {},
   "outputs": [],
   "source": [
    "df_2015 = dataframes_by_year[2015]\n",
    "df_2016 = dataframes_by_year[2016]\n",
    "df_2017 = dataframes_by_year[2017]\n",
    "df_2018 = dataframes_by_year[2018]\n",
    "df_2019 = dataframes_by_year[2019]\n",
    "df_2020 = dataframes_by_year[2020]\n",
    "df_2021 = dataframes_by_year[2021]\n",
    "df_2022 = dataframes_by_year[2022]"
   ]
  },
  {
   "cell_type": "code",
   "execution_count": 78,
   "id": "e0ae7aa2",
   "metadata": {},
   "outputs": [
    {
     "data": {
      "image/png": "[encoded data removed]",
      "text/plain": [
       "<Figure size 576x432 with 1 Axes>"
      ]
     },
     "metadata": {},
     "output_type": "display_data"
    }
   ],
   "source": [
    "# plot length of all dataframes\n",
    "\n",
    "length_of_dfs = [len(df_2015), len(df_2016), len(df_2017), len(df_2018), len(df_2019), len(df_2020), len(df_2021), len(df_2022)]\n",
    "years = [2015, 2016, 2017, 2018, 2019, 2020, 2021, 2022]\n",
    "\n",
    "sns.set_style(\"whitegrid\")\n",
    "sns.set_palette(\"Blues\")\n",
    "\n",
    "fig, ax = plt.subplots(figsize=(8,6))\n",
    "sns.barplot(x=years, y=length_of_dfs, ax=ax, color=\"royalblue\")\n",
    "plt.xlabel(\"Year\")\n",
    "plt.ylabel(\"Total Entries\")\n",
    "ax.yaxis.set_major_formatter(ticker.FuncFormatter(lambda x, pos: f'{int(x):,}'))\n",
    "\n",
    "for p in ax.patches:\n",
    "    ax.text(p.get_x() + p.get_width()/2., p.get_height(), f\"{int(p.get_height())}\", \n",
    "            fontsize=12, color='black', ha='center', va='bottom')\n",
    "\n",
    "plt.show()"
   ]
  },
  {
   "cell_type": "code",
   "execution_count": 80,
   "id": "0a5a38f0",
   "metadata": {},
   "outputs": [
    {
     "data": {
      "text/plain": [
       "83895632"
      ]
     },
     "execution_count": 80,
     "metadata": {},
     "output_type": "execute_result"
    }
   ],
   "source": [
    "# total amount of entries: 83'895'632\n",
    "sum(length_of_dfs)"
   ]
  },
  {
   "cell_type": "markdown",
   "id": "36945983",
   "metadata": {},
   "source": [
    "### clean data"
   ]
  },
  {
   "cell_type": "code",
   "execution_count": null,
   "id": "29881a11",
   "metadata": {},
   "outputs": [],
   "source": [
    "## Clean data - NAs, and start/end being the same station, drop additional useless columns\n",
    "\n",
    "print(all_data.shape)\n",
    "\n",
    "all_data.dropna(axis=0, subset=[\"StartStation Id\", \"EndStation Id\", \"Start Date\", \"End Date\"], inplace=True)\n",
    "\n",
    "print(all_data.shape)\n",
    "\n",
    "all_data[\"EndStation Id\"] = all_data[\"EndStation Id\"].astype(int)\n",
    "all_data[\"StartStation Id\"] = all_data[\"StartStation Id\"].astype(int)\n",
    "\n",
    "all_data = all_data[all_data[\"StartStation Id\"] != all_data[\"EndStation Id\"]]\n",
    "\n",
    "all_data = all_data.loc[:,('Start Date',\n",
    "                           'StartStation Id',\n",
    "                           'End Date',\n",
    "                           'EndStation Id',\n",
    "                           'Duration')]\n",
    "                           \n",
    "print(all_data.shape)\n",
    "\n",
    "## Extra drop for duplicates\n",
    "\n",
    "all_data.drop_duplicates(inplace=True)\n",
    "print(all_data.shape)\n",
    "\n",
    "all_data.head()"
   ]
  },
  {
   "cell_type": "markdown",
   "id": "0b8e4231",
   "metadata": {},
   "source": [
    "### save data as csv"
   ]
  },
  {
   "cell_type": "code",
   "execution_count": 84,
   "id": "afcc51b3",
   "metadata": {},
   "outputs": [],
   "source": [
    "df_2015.to_csv('/Users/tabea/Documents/UrbanMobility/data/cycling-data-tfl/journey_data_2015.csv')\n",
    "df_2016.to_csv('/Users/tabea/Documents/UrbanMobility/data/cycling-data-tfl/journey_data_2016.csv')\n",
    "df_2017.to_csv('/Users/tabea/Documents/UrbanMobility/data/cycling-data-tfl/journey_data_2017.csv')\n",
    "df_2018.to_csv('/Users/tabea/Documents/UrbanMobility/data/cycling-data-tfl/journey_data_2018.csv')\n",
    "df_2019.to_csv('/Users/tabea/Documents/UrbanMobility/data/cycling-data-tfl/journey_data_2019.csv')\n",
    "df_2020.to_csv('/Users/tabea/Documents/UrbanMobility/data/cycling-data-tfl/journey_data_2020.csv')\n",
    "df_2021.to_csv('/Users/tabea/Documents/UrbanMobility/data/cycling-data-tfl/journey_data_2021.csv')\n",
    "df_2022.to_csv('/Users/tabea/Documents/UrbanMobility/data/cycling-data-tfl/journey_data_2022.csv')"
   ]
  },
  {
   "cell_type": "code",
   "execution_count": null,
   "id": "dbf93785",
   "metadata": {},
   "outputs": [],
   "source": []
  }
 ],
 "metadata": {
  "kernelspec": {
   "display_name": "Python 3 (ipykernel)",
   "language": "python",
   "name": "python3"
  },
  "language_info": {
   "codemirror_mode": {
    "name": "ipython",
    "version": 3
   },
   "file_extension": ".py",
   "mimetype": "text/x-python",
   "name": "python",
   "nbconvert_exporter": "python",
   "pygments_lexer": "ipython3",
   "version": "3.9.7"
  }
 },
 "nbformat": 4,
 "nbformat_minor": 5
}
