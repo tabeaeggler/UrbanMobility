{
 "cells": [
  {
   "cell_type": "code",
   "execution_count": 12,
   "metadata": {},
   "outputs": [
    {
     "name": "stdout",
     "output_type": "stream",
     "text": [
      "The autoreload extension is already loaded. To reload it, use:\n",
      "  %reload_ext autoreload\n"
     ]
    }
   ],
   "source": [
    "import pandas as pd\n",
    "import numpy as np\n",
    "from matplotlib import pyplot as plt\n",
    "import os\n",
    "import glob\n",
    "\n",
    "%load_ext autoreload\n",
    "%autoreload 2\n",
    "import sys\n",
    "sys.path.append('/Users/tabea/Documents/UrbanMobility/src')\n",
    "from models import transformer as transformer\n",
    "from models import random_forest_model as random_forest"
   ]
  },
  {
   "cell_type": "code",
   "execution_count": 4,
   "metadata": {},
   "outputs": [],
   "source": [
    "journey_16 = pd.read_csv('../data/processed/aggregated_journey_data/agg_journey_data_2016.csv', parse_dates=['end_date', 'start_date'], index_col=0)\n",
    "journey_17 = pd.read_csv('../data/processed/aggregated_journey_data/agg_journey_data_2017.csv', parse_dates=['end_date', 'start_date'], index_col=0)\n",
    "journey_18 = pd.read_csv('../data/processed/aggregated_journey_data/agg_journey_data_2018.csv', parse_dates=['end_date', 'start_date'], index_col=0)\n",
    "journey_19 = pd.read_csv('../data/processed/aggregated_journey_data/agg_journey_data_2019.csv', parse_dates=['end_date', 'start_date'], index_col=0)"
   ]
  },
  {
   "cell_type": "code",
   "execution_count": 13,
   "metadata": {},
   "outputs": [],
   "source": [
    "journey_train = pd.concat([journey_16, journey_17, journey_18])\n",
    "journey_test = journey_19.copy()\n",
    "\n",
    "x_train, y_train, x_test, y_test = random_forest.train_test_split(journey_train, journey_test)"
   ]
  },
  {
   "cell_type": "code",
   "execution_count": 83,
   "metadata": {},
   "outputs": [],
   "source": [
    "n_boroughs = 12\n",
    "num_sequences_train = len(x_train) // n_boroughs\n",
    "num_sequences_test = len(x_test) // n_boroughs\n",
    "\n",
    "# reshape input to be 3D [samples, timesteps, features]\n",
    "x_train_reshaped = x_train.values[:num_sequences_train*n_boroughs].reshape((num_sequences_train, x_train.shape[1], n_boroughs))\n",
    "x_test_reshaped = x_test.values[:num_sequences_test*n_boroughs].reshape((num_sequences_test, x_test.shape[1], n_boroughs))\n",
    "\n",
    "# We don't reshape y, since it should be a 1D array\n",
    "y_train_reshaped = y_train.values[:num_sequences_train]\n",
    "y_test_reshaped = y_test.values[:num_sequences_test]\n"
   ]
  },
  {
   "cell_type": "code",
   "execution_count": 85,
   "metadata": {},
   "outputs": [
    {
     "name": "stdout",
     "output_type": "stream",
     "text": [
      "(25450,) (25450, 104, 12)\n"
     ]
    }
   ],
   "source": [
    "print(y_train_reshaped.shape, x_train_reshaped.shape)"
   ]
  },
  {
   "cell_type": "code",
   "execution_count": 87,
   "metadata": {},
   "outputs": [
    {
     "name": "stdout",
     "output_type": "stream",
     "text": [
      "Epoch 1/3\n",
      "796/796 [==============================] - 60s 73ms/step - loss: 13837.5742\n",
      "Epoch 2/3\n",
      "796/796 [==============================] - 59s 74ms/step - loss: 13642.7051\n",
      "Epoch 3/3\n",
      "796/796 [==============================] - 63s 79ms/step - loss: 13609.6504\n"
     ]
    }
   ],
   "source": [
    "## Testing the Transformer\n",
    "tr = transformer.Transformer()\n",
    "tr.train(x_train_reshaped,y_train_reshaped)\n"
   ]
  },
  {
   "cell_type": "code",
   "execution_count": 88,
   "metadata": {},
   "outputs": [
    {
     "name": "stdout",
     "output_type": "stream",
     "text": [
      "266/266 [==============================] - 10s 36ms/step\n",
      "The Mean Squared Error of the predictions is 14972.901400068036\n"
     ]
    }
   ],
   "source": [
    "from sklearn.metrics import mean_squared_error\n",
    "\n",
    "# Predict outputs for the test set\n",
    "y_pred = tr.predict(x_test_reshaped)\n",
    "\n",
    "# Calculate the Mean Squared Error of the predictions\n",
    "mse = mean_squared_error(y_test_reshaped, y_pred)\n",
    "\n",
    "print(f'The Mean Squared Error of the predictions is {mse}')"
   ]
  },
  {
   "cell_type": "code",
   "execution_count": null,
   "metadata": {},
   "outputs": [],
   "source": []
  }
 ],
 "metadata": {
  "kernelspec": {
   "display_name": "base",
   "language": "python",
   "name": "python3"
  },
  "language_info": {
   "codemirror_mode": {
    "name": "ipython",
    "version": 3
   },
   "file_extension": ".py",
   "mimetype": "text/x-python",
   "name": "python",
   "nbconvert_exporter": "python",
   "pygments_lexer": "ipython3",
   "version": "3.9.7"
  },
  "orig_nbformat": 4
 },
 "nbformat": 4,
 "nbformat_minor": 2
}
