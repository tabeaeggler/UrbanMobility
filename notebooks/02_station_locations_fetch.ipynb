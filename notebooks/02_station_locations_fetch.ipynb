{
 "cells": [
  {
   "attachments": {},
   "cell_type": "markdown",
   "id": "9dcdf0d3",
   "metadata": {
    "id": "9dcdf0d3"
   },
   "source": [
    "# Bike Station Locations and Boroughs"
   ]
  },
  {
   "cell_type": "code",
   "execution_count": 24,
   "id": "de9dc53e",
   "metadata": {
    "id": "de9dc53e"
   },
   "outputs": [
    {
     "name": "stdout",
     "output_type": "stream",
     "text": [
      "The autoreload extension is already loaded. To reload it, use:\n",
      "  %reload_ext autoreload\n"
     ]
    }
   ],
   "source": [
    "# import python modules\n",
    "%load_ext autoreload\n",
    "%autoreload 2\n",
    "import sys\n",
    "sys.path.append('/Users/tabea/Documents/UrbanMobility/src')\n",
    "from data import station_locations_fetching as locsFetch\n",
    "from visualization import station_locations_vis as locsVis"
   ]
  },
  {
   "attachments": {},
   "cell_type": "markdown",
   "id": "4d28abc8",
   "metadata": {
    "id": "dbf93785"
   },
   "source": [
    "# 1. Get Bike Station Locations\n",
    "\n",
    "by extracting relevant information from API requests to tfl BikePoint data"
   ]
  },
  {
   "cell_type": "code",
   "execution_count": 2,
   "id": "12d281d4",
   "metadata": {},
   "outputs": [
    {
     "name": "stdout",
     "output_type": "stream",
     "text": [
      "(796, 4)\n"
     ]
    },
    {
     "data": {
      "text/html": [
       "<div>\n",
       "<style scoped>\n",
       "    .dataframe tbody tr th:only-of-type {\n",
       "        vertical-align: middle;\n",
       "    }\n",
       "\n",
       "    .dataframe tbody tr th {\n",
       "        vertical-align: top;\n",
       "    }\n",
       "\n",
       "    .dataframe thead th {\n",
       "        text-align: right;\n",
       "    }\n",
       "</style>\n",
       "<table border=\"1\" class=\"dataframe\">\n",
       "  <thead>\n",
       "    <tr style=\"text-align: right;\">\n",
       "      <th></th>\n",
       "      <th>id</th>\n",
       "      <th>name</th>\n",
       "      <th>lat</th>\n",
       "      <th>lon</th>\n",
       "    </tr>\n",
       "  </thead>\n",
       "  <tbody>\n",
       "    <tr>\n",
       "      <th>0</th>\n",
       "      <td>1</td>\n",
       "      <td>River Street , Clerkenwell</td>\n",
       "      <td>51.529163</td>\n",
       "      <td>-0.109970</td>\n",
       "    </tr>\n",
       "    <tr>\n",
       "      <th>1</th>\n",
       "      <td>2</td>\n",
       "      <td>Phillimore Gardens, Kensington</td>\n",
       "      <td>51.499606</td>\n",
       "      <td>-0.197574</td>\n",
       "    </tr>\n",
       "    <tr>\n",
       "      <th>2</th>\n",
       "      <td>3</td>\n",
       "      <td>Christopher Street, Liverpool Street</td>\n",
       "      <td>51.521283</td>\n",
       "      <td>-0.084605</td>\n",
       "    </tr>\n",
       "    <tr>\n",
       "      <th>3</th>\n",
       "      <td>4</td>\n",
       "      <td>St. Chad's Street, King's Cross</td>\n",
       "      <td>51.530059</td>\n",
       "      <td>-0.120973</td>\n",
       "    </tr>\n",
       "    <tr>\n",
       "      <th>4</th>\n",
       "      <td>5</td>\n",
       "      <td>Sedding Street, Sloane Square</td>\n",
       "      <td>51.493130</td>\n",
       "      <td>-0.156876</td>\n",
       "    </tr>\n",
       "  </tbody>\n",
       "</table>\n",
       "</div>"
      ],
      "text/plain": [
       "  id                                  name        lat       lon\n",
       "0  1            River Street , Clerkenwell  51.529163 -0.109970\n",
       "1  2        Phillimore Gardens, Kensington  51.499606 -0.197574\n",
       "2  3  Christopher Street, Liverpool Street  51.521283 -0.084605\n",
       "3  4       St. Chad's Street, King's Cross  51.530059 -0.120973\n",
       "4  5         Sedding Street, Sloane Square  51.493130 -0.156876"
      ]
     },
     "execution_count": 2,
     "metadata": {},
     "output_type": "execute_result"
    }
   ],
   "source": [
    "bike_locs = locsFetch.get_station_locations()    \n",
    "\n",
    "print(bike_locs.shape)\n",
    "bike_locs.head(5)"
   ]
  },
  {
   "attachments": {},
   "cell_type": "markdown",
   "id": "9c9b0fec",
   "metadata": {},
   "source": [
    "# 2. Add Boroughs Based on Station Location\n",
    "\n",
    "by GET requests to 'findthatpostcode' API"
   ]
  },
  {
   "cell_type": "code",
   "execution_count": 4,
   "id": "0ac86f60",
   "metadata": {},
   "outputs": [
    {
     "data": {
      "text/html": [
       "<div>\n",
       "<style scoped>\n",
       "    .dataframe tbody tr th:only-of-type {\n",
       "        vertical-align: middle;\n",
       "    }\n",
       "\n",
       "    .dataframe tbody tr th {\n",
       "        vertical-align: top;\n",
       "    }\n",
       "\n",
       "    .dataframe thead th {\n",
       "        text-align: right;\n",
       "    }\n",
       "</style>\n",
       "<table border=\"1\" class=\"dataframe\">\n",
       "  <thead>\n",
       "    <tr style=\"text-align: right;\">\n",
       "      <th></th>\n",
       "      <th>id</th>\n",
       "      <th>name</th>\n",
       "      <th>lat</th>\n",
       "      <th>lon</th>\n",
       "      <th>borough</th>\n",
       "    </tr>\n",
       "  </thead>\n",
       "  <tbody>\n",
       "    <tr>\n",
       "      <th>0</th>\n",
       "      <td>1</td>\n",
       "      <td>River Street , Clerkenwell</td>\n",
       "      <td>51.529163</td>\n",
       "      <td>-0.109970</td>\n",
       "      <td>Islington</td>\n",
       "    </tr>\n",
       "    <tr>\n",
       "      <th>1</th>\n",
       "      <td>2</td>\n",
       "      <td>Phillimore Gardens, Kensington</td>\n",
       "      <td>51.499606</td>\n",
       "      <td>-0.197574</td>\n",
       "      <td>Kensington and Chelsea</td>\n",
       "    </tr>\n",
       "    <tr>\n",
       "      <th>2</th>\n",
       "      <td>3</td>\n",
       "      <td>Christopher Street, Liverpool Street</td>\n",
       "      <td>51.521283</td>\n",
       "      <td>-0.084605</td>\n",
       "      <td>Hackney</td>\n",
       "    </tr>\n",
       "    <tr>\n",
       "      <th>3</th>\n",
       "      <td>4</td>\n",
       "      <td>St. Chad's Street, King's Cross</td>\n",
       "      <td>51.530059</td>\n",
       "      <td>-0.120973</td>\n",
       "      <td>Camden</td>\n",
       "    </tr>\n",
       "    <tr>\n",
       "      <th>4</th>\n",
       "      <td>5</td>\n",
       "      <td>Sedding Street, Sloane Square</td>\n",
       "      <td>51.493130</td>\n",
       "      <td>-0.156876</td>\n",
       "      <td>Kensington and Chelsea</td>\n",
       "    </tr>\n",
       "  </tbody>\n",
       "</table>\n",
       "</div>"
      ],
      "text/plain": [
       "  id                                  name        lat       lon  \\\n",
       "0  1            River Street , Clerkenwell  51.529163 -0.109970   \n",
       "1  2        Phillimore Gardens, Kensington  51.499606 -0.197574   \n",
       "2  3  Christopher Street, Liverpool Street  51.521283 -0.084605   \n",
       "3  4       St. Chad's Street, King's Cross  51.530059 -0.120973   \n",
       "4  5         Sedding Street, Sloane Square  51.493130 -0.156876   \n",
       "\n",
       "                  borough  \n",
       "0               Islington  \n",
       "1  Kensington and Chelsea  \n",
       "2                 Hackney  \n",
       "3                  Camden  \n",
       "4  Kensington and Chelsea  "
      ]
     },
     "execution_count": 4,
     "metadata": {},
     "output_type": "execute_result"
    }
   ],
   "source": [
    "# map borough to the bike locations\n",
    "bike_locs['borough'] = bike_locs.apply(lambda row: locsFetch.get_borough(row['lat'], row['lon']), axis=1)\n",
    "bike_locs.head(5)"
   ]
  },
  {
   "attachments": {},
   "cell_type": "markdown",
   "id": "55e948aa",
   "metadata": {},
   "source": [
    "### Save Loactions"
   ]
  },
  {
   "cell_type": "code",
   "execution_count": 5,
   "id": "95400ec8",
   "metadata": {},
   "outputs": [],
   "source": [
    "\n",
    "bike_locs.to_csv('../data/interim/station_locations_boroughs.csv', header=True, index=None)"
   ]
  },
  {
   "attachments": {},
   "cell_type": "markdown",
   "id": "27adbc80",
   "metadata": {},
   "source": []
  }
 ],
 "metadata": {
  "accelerator": "GPU",
  "colab": {
   "history_visible": true,
   "machine_shape": "hm",
   "provenance": []
  },
  "gpuClass": "premium",
  "kernelspec": {
   "display_name": "Python 3 (ipykernel)",
   "language": "python",
   "name": "python3"
  },
  "language_info": {
   "codemirror_mode": {
    "name": "ipython",
    "version": 3
   },
   "file_extension": ".py",
   "mimetype": "text/x-python",
   "name": "python",
   "nbconvert_exporter": "python",
   "pygments_lexer": "ipython3",
   "version": "3.9.7"
  }
 },
 "nbformat": 4,
 "nbformat_minor": 5
}
