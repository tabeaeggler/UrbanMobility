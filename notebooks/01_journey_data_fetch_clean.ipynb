{
 "cells": [
  {
   "attachments": {},
   "cell_type": "markdown",
   "id": "9dcdf0d3",
   "metadata": {
    "id": "9dcdf0d3"
   },
   "source": [
    "# Fetch and Clean Journey Bike Data"
   ]
  },
  {
   "cell_type": "code",
   "execution_count": 2,
   "id": "de9dc53e",
   "metadata": {
    "id": "de9dc53e"
   },
   "outputs": [],
   "source": [
    "# import libraries\n",
    "import pandas as pd\n",
    "from datetime import datetime\n",
    "\n",
    "# import python modules\n",
    "%load_ext autoreload\n",
    "%autoreload 2\n",
    "import sys\n",
    "sys.path.append('/Users/tabea/Documents/UrbanMobility/src')\n",
    "from data import journey_data_preprocessing as preprocess"
   ]
  },
  {
   "attachments": {},
   "cell_type": "markdown",
   "id": "fbfcfc9d",
   "metadata": {
    "id": "fbfcfc9d"
   },
   "source": [
    "## 1. FETCH BIKE JOURNEY DATA"
   ]
  },
  {
   "attachments": {},
   "cell_type": "markdown",
   "id": "16dafe33",
   "metadata": {},
   "source": [
    "### 1.1 Fetch Data"
   ]
  },
  {
   "attachments": {},
   "cell_type": "markdown",
   "id": "35c41fc5",
   "metadata": {},
   "source": [
    "The data we need cannot be easily scraped due to its dynamic nature. Instead, we employ a different strategy. The filenames for the required journey data files have been manually compiled and stored in a CSV file, which serves as a reference for fetching data. These filenames point to the specific datasets hosted at https://cycling.data.tfl.gov.uk. By iterating over the list of filenames, we can programmatically send requests to retrieve each file's data."
   ]
  },
  {
   "cell_type": "code",
   "execution_count": null,
   "id": "71b301a1",
   "metadata": {
    "colab": {
     "base_uri": "https://localhost:8080/",
     "height": 181
    },
    "id": "71b301a1",
    "outputId": "14181a83-439e-4f78-a827-80c7613b6720"
   },
   "outputs": [
    {
     "data": {
      "text/plain": [
       "84188068"
      ]
     },
     "execution_count": 12,
     "metadata": {},
     "output_type": "execute_result"
    }
   ],
   "source": [
    "# load the list of journey data filenames to be fetched.\n",
    "filenames = pd.read_csv('../data/raw/filenames-data.csv', header=None, squeeze=True)\n",
    "journey_data_df = preprocess.fetch_journey_data(filenames)\n",
    "\n",
    "print(\"total amount of entries fetched:\", len(journey_data_df))"
   ]
  },
  {
   "attachments": {},
   "cell_type": "markdown",
   "id": "6ec6c961",
   "metadata": {},
   "source": [
    "### 1.2 Save Raw Data"
   ]
  },
  {
   "cell_type": "code",
   "execution_count": null,
   "id": "287d0920",
   "metadata": {},
   "outputs": [
    {
     "data": {
      "text/html": [
       "<div>\n",
       "<style scoped>\n",
       "    .dataframe tbody tr th:only-of-type {\n",
       "        vertical-align: middle;\n",
       "    }\n",
       "\n",
       "    .dataframe tbody tr th {\n",
       "        vertical-align: top;\n",
       "    }\n",
       "\n",
       "    .dataframe thead th {\n",
       "        text-align: right;\n",
       "    }\n",
       "</style>\n",
       "<table border=\"1\" class=\"dataframe\">\n",
       "  <thead>\n",
       "    <tr style=\"text-align: right;\">\n",
       "      <th></th>\n",
       "      <th>Unnamed: 0</th>\n",
       "      <th>Unnamed: 0.1</th>\n",
       "      <th>Rental Id</th>\n",
       "      <th>End Date</th>\n",
       "      <th>EndStation Id</th>\n",
       "      <th>EndStation Name</th>\n",
       "      <th>Start Date</th>\n",
       "      <th>StartStation Id</th>\n",
       "      <th>StartStation Name</th>\n",
       "      <th>Unnamed: 9</th>\n",
       "      <th>Unnamed: 10</th>\n",
       "      <th>Unnamed: 11</th>\n",
       "      <th>EndStation Logical Terminal</th>\n",
       "      <th>endStationPriority_id</th>\n",
       "      <th>StartStation Logical Terminal</th>\n",
       "    </tr>\n",
       "  </thead>\n",
       "  <tbody>\n",
       "    <tr>\n",
       "      <th>0</th>\n",
       "      <td>0</td>\n",
       "      <td>0</td>\n",
       "      <td>63097899.0</td>\n",
       "      <td>2017-03-15 00:06:00</td>\n",
       "      <td>631.0</td>\n",
       "      <td>Battersea Park Road, Nine Elms</td>\n",
       "      <td>2017-03-15 00:00:00</td>\n",
       "      <td>74.0</td>\n",
       "      <td>Vauxhall Cross, Vauxhall</td>\n",
       "      <td>NaN</td>\n",
       "      <td>NaN</td>\n",
       "      <td>NaN</td>\n",
       "      <td>NaN</td>\n",
       "      <td>NaN</td>\n",
       "      <td>NaN</td>\n",
       "    </tr>\n",
       "    <tr>\n",
       "      <th>1</th>\n",
       "      <td>1</td>\n",
       "      <td>1</td>\n",
       "      <td>63097900.0</td>\n",
       "      <td>2017-03-15 00:05:00</td>\n",
       "      <td>397.0</td>\n",
       "      <td>Devonshire Terrace, Bayswater</td>\n",
       "      <td>2017-03-15 00:01:00</td>\n",
       "      <td>410.0</td>\n",
       "      <td>Edgware Road Station, Marylebone</td>\n",
       "      <td>NaN</td>\n",
       "      <td>NaN</td>\n",
       "      <td>NaN</td>\n",
       "      <td>NaN</td>\n",
       "      <td>NaN</td>\n",
       "      <td>NaN</td>\n",
       "    </tr>\n",
       "    <tr>\n",
       "      <th>2</th>\n",
       "      <td>2</td>\n",
       "      <td>2</td>\n",
       "      <td>63097901.0</td>\n",
       "      <td>2017-03-15 00:06:00</td>\n",
       "      <td>426.0</td>\n",
       "      <td>Vincent Street, Pimlico</td>\n",
       "      <td>2017-03-15 00:01:00</td>\n",
       "      <td>177.0</td>\n",
       "      <td>Ashley Place, Victoria</td>\n",
       "      <td>NaN</td>\n",
       "      <td>NaN</td>\n",
       "      <td>NaN</td>\n",
       "      <td>NaN</td>\n",
       "      <td>NaN</td>\n",
       "      <td>NaN</td>\n",
       "    </tr>\n",
       "    <tr>\n",
       "      <th>3</th>\n",
       "      <td>3</td>\n",
       "      <td>3</td>\n",
       "      <td>63097902.0</td>\n",
       "      <td>2017-03-15 00:12:00</td>\n",
       "      <td>462.0</td>\n",
       "      <td>Bonny Street, Camden Town</td>\n",
       "      <td>2017-03-15 00:01:00</td>\n",
       "      <td>22.0</td>\n",
       "      <td>Northington Street , Holborn</td>\n",
       "      <td>NaN</td>\n",
       "      <td>NaN</td>\n",
       "      <td>NaN</td>\n",
       "      <td>NaN</td>\n",
       "      <td>NaN</td>\n",
       "      <td>NaN</td>\n",
       "    </tr>\n",
       "    <tr>\n",
       "      <th>4</th>\n",
       "      <td>4</td>\n",
       "      <td>4</td>\n",
       "      <td>63097903.0</td>\n",
       "      <td>2017-03-15 00:05:00</td>\n",
       "      <td>423.0</td>\n",
       "      <td>Eaton Square (South), Belgravia</td>\n",
       "      <td>2017-03-15 00:01:00</td>\n",
       "      <td>143.0</td>\n",
       "      <td>Pont Street, Knightsbridge</td>\n",
       "      <td>NaN</td>\n",
       "      <td>NaN</td>\n",
       "      <td>NaN</td>\n",
       "      <td>NaN</td>\n",
       "      <td>NaN</td>\n",
       "      <td>NaN</td>\n",
       "    </tr>\n",
       "  </tbody>\n",
       "</table>\n",
       "</div>"
      ],
      "text/plain": [
       "   Unnamed: 0  Unnamed: 0.1   Rental Id             End Date  EndStation Id  \\\n",
       "0           0             0  63097899.0  2017-03-15 00:06:00          631.0   \n",
       "1           1             1  63097900.0  2017-03-15 00:05:00          397.0   \n",
       "2           2             2  63097901.0  2017-03-15 00:06:00          426.0   \n",
       "3           3             3  63097902.0  2017-03-15 00:12:00          462.0   \n",
       "4           4             4  63097903.0  2017-03-15 00:05:00          423.0   \n",
       "\n",
       "                   EndStation Name           Start Date  StartStation Id  \\\n",
       "0   Battersea Park Road, Nine Elms  2017-03-15 00:00:00             74.0   \n",
       "1    Devonshire Terrace, Bayswater  2017-03-15 00:01:00            410.0   \n",
       "2          Vincent Street, Pimlico  2017-03-15 00:01:00            177.0   \n",
       "3        Bonny Street, Camden Town  2017-03-15 00:01:00             22.0   \n",
       "4  Eaton Square (South), Belgravia  2017-03-15 00:01:00            143.0   \n",
       "\n",
       "                  StartStation Name  Unnamed: 9  Unnamed: 10  Unnamed: 11  \\\n",
       "0          Vauxhall Cross, Vauxhall         NaN          NaN          NaN   \n",
       "1  Edgware Road Station, Marylebone         NaN          NaN          NaN   \n",
       "2            Ashley Place, Victoria         NaN          NaN          NaN   \n",
       "3      Northington Street , Holborn         NaN          NaN          NaN   \n",
       "4        Pont Street, Knightsbridge         NaN          NaN          NaN   \n",
       "\n",
       "   EndStation Logical Terminal  endStationPriority_id  \\\n",
       "0                          NaN                    NaN   \n",
       "1                          NaN                    NaN   \n",
       "2                          NaN                    NaN   \n",
       "3                          NaN                    NaN   \n",
       "4                          NaN                    NaN   \n",
       "\n",
       "   StartStation Logical Terminal  \n",
       "0                            NaN  \n",
       "1                            NaN  \n",
       "2                            NaN  \n",
       "3                            NaN  \n",
       "4                            NaN  "
      ]
     },
     "execution_count": 69,
     "metadata": {},
     "output_type": "execute_result"
    }
   ],
   "source": [
    "journey_data_df.head()\n",
    "journey_data_df.to_csv('../data/raw/journey_data_raw.csv')"
   ]
  },
  {
   "attachments": {},
   "cell_type": "markdown",
   "id": "36945983",
   "metadata": {
    "id": "36945983"
   },
   "source": [
    "## 2. CLEAN BIKE JOURNEY DATA"
   ]
  },
  {
   "cell_type": "code",
   "execution_count": 4,
   "id": "1edfad8c",
   "metadata": {},
   "outputs": [],
   "source": [
    "# import journey data if already fetched\n",
    "journey_data_df = pd.read_csv('../data/raw/journey_data_raw.csv')"
   ]
  },
  {
   "cell_type": "code",
   "execution_count": 5,
   "id": "V4KsfJjNPnQ0",
   "metadata": {
    "id": "V4KsfJjNPnQ0"
   },
   "outputs": [
    {
     "name": "stdout",
     "output_type": "stream",
     "text": [
      "length before cleaning: 84188068\n"
     ]
    }
   ],
   "source": [
    "print(\"length before cleaning:\", len(journey_data_df))"
   ]
  },
  {
   "attachments": {},
   "cell_type": "markdown",
   "id": "da0d1764",
   "metadata": {},
   "source": [
    "### 2.1 Standardise Column Names\n",
    "Merge columns with different namings, change datatypes and drop columns starting with 'Unnamed'"
   ]
  },
  {
   "cell_type": "code",
   "execution_count": 6,
   "id": "4f838a5c",
   "metadata": {},
   "outputs": [
    {
     "data": {
      "text/html": [
       "<div>\n",
       "<style scoped>\n",
       "    .dataframe tbody tr th:only-of-type {\n",
       "        vertical-align: middle;\n",
       "    }\n",
       "\n",
       "    .dataframe tbody tr th {\n",
       "        vertical-align: top;\n",
       "    }\n",
       "\n",
       "    .dataframe thead th {\n",
       "        text-align: right;\n",
       "    }\n",
       "</style>\n",
       "<table border=\"1\" class=\"dataframe\">\n",
       "  <thead>\n",
       "    <tr style=\"text-align: right;\">\n",
       "      <th></th>\n",
       "      <th>rental_id</th>\n",
       "      <th>end_date</th>\n",
       "      <th>end_station_id</th>\n",
       "      <th>end_station_name</th>\n",
       "      <th>start_date</th>\n",
       "      <th>start_station_id</th>\n",
       "      <th>start_station_name</th>\n",
       "      <th>EndStation Logical Terminal</th>\n",
       "      <th>endStationPriority_id</th>\n",
       "      <th>StartStation Logical Terminal</th>\n",
       "    </tr>\n",
       "  </thead>\n",
       "  <tbody>\n",
       "    <tr>\n",
       "      <th>0</th>\n",
       "      <td>63097899.0</td>\n",
       "      <td>2017-03-15 00:06:00</td>\n",
       "      <td>631.0</td>\n",
       "      <td>Battersea Park Road, Nine Elms</td>\n",
       "      <td>2017-03-15 00:00:00</td>\n",
       "      <td>74.0</td>\n",
       "      <td>Vauxhall Cross, Vauxhall</td>\n",
       "      <td>NaN</td>\n",
       "      <td>NaN</td>\n",
       "      <td>NaN</td>\n",
       "    </tr>\n",
       "    <tr>\n",
       "      <th>1</th>\n",
       "      <td>63097900.0</td>\n",
       "      <td>2017-03-15 00:05:00</td>\n",
       "      <td>397.0</td>\n",
       "      <td>Devonshire Terrace, Bayswater</td>\n",
       "      <td>2017-03-15 00:01:00</td>\n",
       "      <td>410.0</td>\n",
       "      <td>Edgware Road Station, Marylebone</td>\n",
       "      <td>NaN</td>\n",
       "      <td>NaN</td>\n",
       "      <td>NaN</td>\n",
       "    </tr>\n",
       "    <tr>\n",
       "      <th>2</th>\n",
       "      <td>63097901.0</td>\n",
       "      <td>2017-03-15 00:06:00</td>\n",
       "      <td>426.0</td>\n",
       "      <td>Vincent Street, Pimlico</td>\n",
       "      <td>2017-03-15 00:01:00</td>\n",
       "      <td>177.0</td>\n",
       "      <td>Ashley Place, Victoria</td>\n",
       "      <td>NaN</td>\n",
       "      <td>NaN</td>\n",
       "      <td>NaN</td>\n",
       "    </tr>\n",
       "    <tr>\n",
       "      <th>3</th>\n",
       "      <td>63097902.0</td>\n",
       "      <td>2017-03-15 00:12:00</td>\n",
       "      <td>462.0</td>\n",
       "      <td>Bonny Street, Camden Town</td>\n",
       "      <td>2017-03-15 00:01:00</td>\n",
       "      <td>22.0</td>\n",
       "      <td>Northington Street , Holborn</td>\n",
       "      <td>NaN</td>\n",
       "      <td>NaN</td>\n",
       "      <td>NaN</td>\n",
       "    </tr>\n",
       "    <tr>\n",
       "      <th>4</th>\n",
       "      <td>63097903.0</td>\n",
       "      <td>2017-03-15 00:05:00</td>\n",
       "      <td>423.0</td>\n",
       "      <td>Eaton Square (South), Belgravia</td>\n",
       "      <td>2017-03-15 00:01:00</td>\n",
       "      <td>143.0</td>\n",
       "      <td>Pont Street, Knightsbridge</td>\n",
       "      <td>NaN</td>\n",
       "      <td>NaN</td>\n",
       "      <td>NaN</td>\n",
       "    </tr>\n",
       "  </tbody>\n",
       "</table>\n",
       "</div>"
      ],
      "text/plain": [
       "    rental_id            end_date  end_station_id  \\\n",
       "0  63097899.0 2017-03-15 00:06:00           631.0   \n",
       "1  63097900.0 2017-03-15 00:05:00           397.0   \n",
       "2  63097901.0 2017-03-15 00:06:00           426.0   \n",
       "3  63097902.0 2017-03-15 00:12:00           462.0   \n",
       "4  63097903.0 2017-03-15 00:05:00           423.0   \n",
       "\n",
       "                  end_station_name          start_date  start_station_id  \\\n",
       "0   Battersea Park Road, Nine Elms 2017-03-15 00:00:00              74.0   \n",
       "1    Devonshire Terrace, Bayswater 2017-03-15 00:01:00             410.0   \n",
       "2          Vincent Street, Pimlico 2017-03-15 00:01:00             177.0   \n",
       "3        Bonny Street, Camden Town 2017-03-15 00:01:00              22.0   \n",
       "4  Eaton Square (South), Belgravia 2017-03-15 00:01:00             143.0   \n",
       "\n",
       "                 start_station_name  EndStation Logical Terminal  \\\n",
       "0          Vauxhall Cross, Vauxhall                          NaN   \n",
       "1  Edgware Road Station, Marylebone                          NaN   \n",
       "2            Ashley Place, Victoria                          NaN   \n",
       "3      Northington Street , Holborn                          NaN   \n",
       "4        Pont Street, Knightsbridge                          NaN   \n",
       "\n",
       "   endStationPriority_id  StartStation Logical Terminal  \n",
       "0                    NaN                            NaN  \n",
       "1                    NaN                            NaN  \n",
       "2                    NaN                            NaN  \n",
       "3                    NaN                            NaN  \n",
       "4                    NaN                            NaN  "
      ]
     },
     "execution_count": 6,
     "metadata": {},
     "output_type": "execute_result"
    }
   ],
   "source": [
    "journey_data_df = preprocess.standardize_columns(journey_data_df)\n",
    "journey_data_df.head()"
   ]
  },
  {
   "attachments": {},
   "cell_type": "markdown",
   "id": "ef158ecc",
   "metadata": {},
   "source": [
    "### 2.2 Drop Duplicates and NaN-Only\n",
    "some files have same or overlapping content, but different names: 01b Journey Data Extract 24Jan16-06Feb16.csv == 01bJourneyDataExtract24Jan16-06Feb16.csv"
   ]
  },
  {
   "cell_type": "code",
   "execution_count": 7,
   "id": "x2tK4QaAOqcw",
   "metadata": {
    "id": "x2tK4QaAOqcw"
   },
   "outputs": [
    {
     "name": "stdout",
     "output_type": "stream",
     "text": [
      "current length of df:  83895356\n"
     ]
    }
   ],
   "source": [
    "journey_data_df = preprocess.drop_duplicates(journey_data_df)\n",
    "\n",
    "print(\"current length of df: \", len(journey_data_df))"
   ]
  },
  {
   "attachments": {},
   "cell_type": "markdown",
   "id": "bb59cbec",
   "metadata": {},
   "source": [
    "### 2.3 Investigate and Handle NaN Values"
   ]
  },
  {
   "cell_type": "code",
   "execution_count": 8,
   "id": "7812b6cb",
   "metadata": {},
   "outputs": [
    {
     "name": "stdout",
     "output_type": "stream",
     "text": [
      "rental_id                               0\n",
      "end_date                           170358\n",
      "end_station_id                     715522\n",
      "end_station_name                   171824\n",
      "start_date                              0\n",
      "start_station_id                   234440\n",
      "start_station_name                      0\n",
      "EndStation Logical Terminal      83665717\n",
      "endStationPriority_id            83665717\n",
      "StartStation Logical Terminal    83662856\n",
      "dtype: int64\n"
     ]
    }
   ],
   "source": [
    "print(journey_data_df.isna().sum())"
   ]
  },
  {
   "attachments": {},
   "cell_type": "markdown",
   "id": "bc28dfb3",
   "metadata": {},
   "source": [
    "#### NaN Values: start_station_name & end_station_name\n",
    "\n",
    "start_station_name: no NaN values\n",
    "\n",
    "end_station_name: only NaN if end_station_id is also NaN -> they can't be mapped, so they must be removed."
   ]
  },
  {
   "cell_type": "code",
   "execution_count": 9,
   "id": "28afcd03",
   "metadata": {},
   "outputs": [],
   "source": [
    "# drop all entries with empty end station id and name\n",
    "journey_data_df = journey_data_df.dropna(subset=['end_station_id', 'end_station_name'], how='all')"
   ]
  },
  {
   "attachments": {},
   "cell_type": "markdown",
   "id": "72983817",
   "metadata": {},
   "source": [
    "#### NaN Values: start_date & end_date\n",
    "\n",
    "start_station_date: no NaN values\n",
    "\n",
    "end_station_date: only a few ones -> must be removed"
   ]
  },
  {
   "cell_type": "code",
   "execution_count": 10,
   "id": "61495287",
   "metadata": {},
   "outputs": [],
   "source": [
    "# drop all entries with empty end date\n",
    "journey_data_df = journey_data_df.dropna(subset=['end_date'])"
   ]
  },
  {
   "attachments": {},
   "cell_type": "markdown",
   "id": "287e0725",
   "metadata": {},
   "source": [
    "### NaN Values: start_station_id & end_station_id\n",
    "\n",
    "Numerous NaN values are observed in the 'start_station_id' and 'end_station_id' columns. The primary cause: bike rides extending beyond a single calendar day. For these instances, stations are referred to as terminal stations, each carrying a unique ID set with higher numbers (>852).\n",
    "\n",
    "Due to the mix of station_id and terminal_id and lots of NaN values, the ID's get dropped and the name of the station is used as identifier."
   ]
  },
  {
   "cell_type": "code",
   "execution_count": 11,
   "id": "ead5d81a",
   "metadata": {},
   "outputs": [
    {
     "name": "stdout",
     "output_type": "stream",
     "text": [
      "count of terminal station ID instaed of normal ID:  2788522\n"
     ]
    }
   ],
   "source": [
    "# only 852 station are present in the data. But there are also terminal station IDs that have higher values and are mixed in the data.\n",
    "# they can be found here: https://api.tfl.gov.uk/BikePoint/\n",
    "\n",
    "greater_than_852 = (journey_data_df['start_station_id'] > 852) | (journey_data_df['end_station_id'] > 852)\n",
    "print(\"count of terminal station ID instaed of normal ID: \", greater_than_852.sum())"
   ]
  },
  {
   "cell_type": "code",
   "execution_count": 12,
   "id": "5eea5529",
   "metadata": {},
   "outputs": [],
   "source": [
    "# drop all ID's\n",
    "journey_data_df = journey_data_df.drop(columns=['start_station_id', 'end_station_id', 'EndStation Logical Terminal', 'endStationPriority_id', 'StartStation Logical Terminal'])"
   ]
  },
  {
   "cell_type": "code",
   "execution_count": 13,
   "id": "1bc11bbc",
   "metadata": {},
   "outputs": [
    {
     "name": "stdout",
     "output_type": "stream",
     "text": [
      "rental_id             0\n",
      "end_date              0\n",
      "end_station_name      0\n",
      "start_date            0\n",
      "start_station_name    0\n",
      "dtype: int64\n"
     ]
    }
   ],
   "source": [
    "print(journey_data_df.isna().sum())"
   ]
  },
  {
   "attachments": {},
   "cell_type": "markdown",
   "id": "dc5f4619",
   "metadata": {},
   "source": [
    "### 2.4 Filter Data by Date"
   ]
  },
  {
   "cell_type": "code",
   "execution_count": 14,
   "id": "64ffd048",
   "metadata": {},
   "outputs": [],
   "source": [
    "start_date = datetime(2019, 1, 1) \n",
    "end_date = datetime(2019, 12, 31)\n",
    "\n",
    "journey_data_df = preprocess.filter_date(journey_data_df, start_date, end_date)"
   ]
  },
  {
   "attachments": {},
   "cell_type": "markdown",
   "id": "25c94ed5",
   "metadata": {},
   "source": [
    "### 2.5 Save Cleaned Data"
   ]
  },
  {
   "cell_type": "code",
   "execution_count": 15,
   "id": "9JSbvAxpPuIA",
   "metadata": {
    "id": "9JSbvAxpPuIA"
   },
   "outputs": [],
   "source": [
    "\n",
    "journey_data_df.head()\n",
    "journey_data_df.to_csv('../data/interim/journey_data_cleaned.csv')"
   ]
  },
  {
   "cell_type": "code",
   "execution_count": null,
   "id": "6eea4554",
   "metadata": {},
   "outputs": [],
   "source": []
  }
 ],
 "metadata": {
  "accelerator": "GPU",
  "colab": {
   "history_visible": true,
   "machine_shape": "hm",
   "provenance": []
  },
  "gpuClass": "premium",
  "kernelspec": {
   "display_name": "Python 3 (ipykernel)",
   "language": "python",
   "name": "python3"
  },
  "language_info": {
   "codemirror_mode": {
    "name": "ipython",
    "version": 3
   },
   "file_extension": ".py",
   "mimetype": "text/x-python",
   "name": "python",
   "nbconvert_exporter": "python",
   "pygments_lexer": "ipython3",
   "version": "3.9.7"
  }
 },
 "nbformat": 4,
 "nbformat_minor": 5
}
