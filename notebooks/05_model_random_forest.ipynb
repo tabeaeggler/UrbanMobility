{
 "cells": [
  {
   "cell_type": "code",
   "execution_count": 8,
   "metadata": {},
   "outputs": [],
   "source": [
    "import pandas as pd\n",
    "pd.options.display.max_seq_items = 2000"
   ]
  },
  {
   "attachments": {},
   "cell_type": "markdown",
   "metadata": {},
   "source": [
    "# Random Forest Modelling"
   ]
  },
  {
   "cell_type": "code",
   "execution_count": 12,
   "metadata": {},
   "outputs": [],
   "source": [
    "journey_train = pd.read_csv('../data/processed/journey_data_cleaned_featureeng_startboroughmapping_2019_02.csv', parse_dates=['end_date', 'start_date'], index_col=0)\n",
    "journey_test = pd.read_csv('../data/processed/journey_data_cleaned_featureeng_startboroughmapping_2019_01.csv', parse_dates=['end_date', 'start_date'], index_col=0)"
   ]
  },
  {
   "attachments": {},
   "cell_type": "markdown",
   "metadata": {},
   "source": [
    "### Data Prep"
   ]
  },
  {
   "cell_type": "code",
   "execution_count": 13,
   "metadata": {},
   "outputs": [],
   "source": [
    "# drop rental_id\n",
    "journey_train = journey_train.drop(['rental_id'], axis=1)\n",
    "journey_test = journey_test.drop(['rental_id'], axis=1)"
   ]
  },
  {
   "cell_type": "code",
   "execution_count": 15,
   "metadata": {},
   "outputs": [],
   "source": [
    "# check for any missing values: none\n",
    "missing_values = journey_train.isnull().sum()"
   ]
  },
  {
   "cell_type": "code",
   "execution_count": null,
   "metadata": {},
   "outputs": [],
   "source": [
    "# check columns\n",
    "print(journey_train.columns)"
   ]
  },
  {
   "cell_type": "code",
   "execution_count": 17,
   "metadata": {},
   "outputs": [
    {
     "name": "stdout",
     "output_type": "stream",
     "text": [
      "start_day\n",
      "2019-02-01    19469\n",
      "2019-02-02    13970\n",
      "2019-02-03    22409\n",
      "2019-02-04    24323\n",
      "2019-02-05    32159\n",
      "2019-02-07    42058\n",
      "2019-02-08    37478\n",
      "2019-02-10    33444\n",
      "2019-02-13    28907\n",
      "2019-02-14    29012\n",
      "2019-02-15    28575\n",
      "2019-02-16    20322\n",
      "2019-02-17    24081\n",
      "2019-02-18    23630\n",
      "2019-02-19    28588\n",
      "2019-02-20    28723\n",
      "2019-02-21    30182\n",
      "2019-02-22    29409\n",
      "2019-02-23    28881\n",
      "2019-02-24    25757\n",
      "2019-02-25    31196\n",
      "2019-02-26    34553\n",
      "2019-02-27    34957\n",
      "2019-02-28       51\n",
      "2019-03-02    14463\n",
      "2019-03-29        4\n",
      "2019-03-30       13\n",
      "2019-03-31       42\n",
      "2019-04-02    18106\n",
      "2019-05-02    25405\n",
      "2019-06-27        5\n",
      "2019-06-28        6\n",
      "2019-06-29       12\n",
      "2019-06-30      165\n",
      "2019-07-31      157\n",
      "2019-09-01        1\n",
      "2019-10-01        3\n",
      "2019-11-01        2\n",
      "2019-12-01       97\n",
      "dtype: int64\n"
     ]
    }
   ],
   "source": [
    "# daily demand aggregation\n",
    "journey_train['start_day'] = journey_train['start_date'].dt.date\n",
    "journey_train_daily = journey_train.groupby('start_day').size()\n",
    "\n",
    "# hourly demand aggregation\n",
    "journey_train['start_hour'] = journey_train['start_date'].dt.round('H')\n",
    "journey_train_hourly = journey_train.groupby('start_hour').size().reset_index(name='demand')"
   ]
  },
  {
   "attachments": {},
   "cell_type": "markdown",
   "metadata": {},
   "source": [
    "### Modelling"
   ]
  },
  {
   "attachments": {},
   "cell_type": "markdown",
   "metadata": {},
   "source": []
  }
 ],
 "metadata": {
  "kernelspec": {
   "display_name": "base",
   "language": "python",
   "name": "python3"
  },
  "language_info": {
   "codemirror_mode": {
    "name": "ipython",
    "version": 3
   },
   "file_extension": ".py",
   "mimetype": "text/x-python",
   "name": "python",
   "nbconvert_exporter": "python",
   "pygments_lexer": "ipython3",
   "version": "3.9.7"
  },
  "orig_nbformat": 4
 },
 "nbformat": 4,
 "nbformat_minor": 2
}
