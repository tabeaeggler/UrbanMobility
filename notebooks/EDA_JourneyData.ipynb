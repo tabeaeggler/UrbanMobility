{
 "cells": [
  {
   "cell_type": "code",
   "execution_count": null,
   "id": "465398c1",
   "metadata": {},
   "outputs": [],
   "source": [
    "# plot length of all dataframes\n",
    "\n",
    "length_of_dfs = [len(yearly_dfs[2015]), len(yearly_dfs[2016]), len(yearly_dfs[2017]), len(yearly_dfs[2018]), len(yearly_dfs[2019]), len(yearly_dfs[2020]), len(yearly_dfs[2021]), len(yearly_dfs[2022])]\n",
    "years = [2015, 2016, 2017, 2018, 2019, 2020, 2021, 2022]\n",
    "\n",
    "sns.set_style(\"whitegrid\")\n",
    "sns.set_palette(\"Blues\")\n",
    "\n",
    "fig, ax = plt.subplots(figsize=(8,6))\n",
    "sns.barplot(x=years, y=length_of_dfs, ax=ax, color=\"royalblue\")\n",
    "plt.xlabel(\"Year\")\n",
    "plt.ylabel(\"Total Entries\")\n",
    "ax.yaxis.set_major_formatter(ticker.FuncFormatter(lambda x, pos: f'{int(x):,}'))\n",
    "\n",
    "for p in ax.patches:\n",
    "    ax.text(p.get_x() + p.get_width()/2., p.get_height(), f\"{int(p.get_height())}\", \n",
    "            fontsize=12, color='black', ha='center', va='bottom')\n",
    "\n",
    "plt.show()"
   ]
  }
 ],
 "metadata": {
  "kernelspec": {
   "display_name": "Python 3 (ipykernel)",
   "language": "python",
   "name": "python3"
  },
  "language_info": {
   "codemirror_mode": {
    "name": "ipython",
    "version": 3
   },
   "file_extension": ".py",
   "mimetype": "text/x-python",
   "name": "python",
   "nbconvert_exporter": "python",
   "pygments_lexer": "ipython3",
   "version": "3.9.7"
  }
 },
 "nbformat": 4,
 "nbformat_minor": 5
}
